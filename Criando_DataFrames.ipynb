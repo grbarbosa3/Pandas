{
  "nbformat": 4,
  "nbformat_minor": 0,
  "metadata": {
    "colab": {
      "name": "Criando DataFrames.ipynb",
      "provenance": [],
      "toc_visible": true,
      "authorship_tag": "ABX9TyMGaFH3Oxy/NUH8iyNbcKwg",
      "include_colab_link": true
    },
    "kernelspec": {
      "name": "python3",
      "display_name": "Python 3"
    }
  },
  "cells": [
    {
      "cell_type": "markdown",
      "metadata": {
        "id": "view-in-github",
        "colab_type": "text"
      },
      "source": [
        "<a href=\"https://colab.research.google.com/github/grbarbosa3/Pandas_lecture/blob/master/Criando_DataFrames.ipynb\" target=\"_parent\"><img src=\"https://colab.research.google.com/assets/colab-badge.svg\" alt=\"Open In Colab\"/></a>"
      ]
    },
    {
      "cell_type": "markdown",
      "metadata": {
        "id": "QzCw305Qq-HV",
        "colab_type": "text"
      },
      "source": [
        "# **Criando DataFrames**\n",
        "com Pandas\n"
      ]
    },
    {
      "cell_type": "code",
      "metadata": {
        "id": "yw5E7Hv58Khw",
        "colab_type": "code",
        "colab": {}
      },
      "source": [
        "import pandas as pd"
      ],
      "execution_count": 0,
      "outputs": []
    },
    {
      "cell_type": "markdown",
      "metadata": {
        "id": "ulnLZVP_qzrO",
        "colab_type": "text"
      },
      "source": [
        "## **Criando DataFrame a partir de Dicionários**"
      ]
    },
    {
      "cell_type": "code",
      "metadata": {
        "id": "hAHeRHty9ZYw",
        "colab_type": "code",
        "colab": {}
      },
      "source": [
        "# DICIONARIO\n",
        "\n",
        "dados_dict = {\n",
        "   \n",
        "    \"nome\" : [\"Gui\",\"Pai\",\"Mãe\", \"Billy\", \"Dinky\"],\n",
        "    \"idade\" : [26,11,7,55,54],\n",
        "    \"lugar\" : [\"Mesa\",\"Cozinha\", \"Costura\", \"Sofá\", \"Caminha\"],\n",
        "    \"onde\" : [True, False, True, False, False]\n",
        "\n",
        "}"
      ],
      "execution_count": 0,
      "outputs": []
    },
    {
      "cell_type": "code",
      "metadata": {
        "id": "3S0QWVbh9xun",
        "colab_type": "code",
        "colab": {
          "base_uri": "https://localhost:8080/",
          "height": 34
        },
        "outputId": "d265555f-4b62-4f5f-903f-1b0c31ae078b"
      },
      "source": [
        "dados_dict.keys()"
      ],
      "execution_count": 18,
      "outputs": [
        {
          "output_type": "execute_result",
          "data": {
            "text/plain": [
              "dict_keys(['nome', 'idade', 'lugar', 'onde'])"
            ]
          },
          "metadata": {
            "tags": []
          },
          "execution_count": 18
        }
      ]
    },
    {
      "cell_type": "code",
      "metadata": {
        "id": "LgmjYQGF92y6",
        "colab_type": "code",
        "colab": {
          "base_uri": "https://localhost:8080/",
          "height": 54
        },
        "outputId": "049cbf7a-b5e0-4ba0-b56d-1b8eac3b867e"
      },
      "source": [
        "dados_dict.values()"
      ],
      "execution_count": 19,
      "outputs": [
        {
          "output_type": "execute_result",
          "data": {
            "text/plain": [
              "dict_values([['Gui', 'Pai', 'Mãe', 'Billy', 'Dinky'], [26, 11, 7, 55, 54], ['Mesa', 'Cozinha', 'Costura', 'Sofá', 'Caminha'], [True, False, True, False, False]])"
            ]
          },
          "metadata": {
            "tags": []
          },
          "execution_count": 19
        }
      ]
    },
    {
      "cell_type": "code",
      "metadata": {
        "id": "Hyaf2Fxr-G1z",
        "colab_type": "code",
        "colab": {
          "base_uri": "https://localhost:8080/",
          "height": 204
        },
        "outputId": "6c91ff64-8f00-44e6-d7b5-1ef89f481fc7"
      },
      "source": [
        "#criar um Data Frame apartir do dicionário\n",
        "\n",
        "df = pd.DataFrame(dados_dict)\n",
        "df"
      ],
      "execution_count": 44,
      "outputs": [
        {
          "output_type": "execute_result",
          "data": {
            "text/html": [
              "<div>\n",
              "<style scoped>\n",
              "    .dataframe tbody tr th:only-of-type {\n",
              "        vertical-align: middle;\n",
              "    }\n",
              "\n",
              "    .dataframe tbody tr th {\n",
              "        vertical-align: top;\n",
              "    }\n",
              "\n",
              "    .dataframe thead th {\n",
              "        text-align: right;\n",
              "    }\n",
              "</style>\n",
              "<table border=\"1\" class=\"dataframe\">\n",
              "  <thead>\n",
              "    <tr style=\"text-align: right;\">\n",
              "      <th></th>\n",
              "      <th>nome</th>\n",
              "      <th>idade</th>\n",
              "      <th>lugar</th>\n",
              "      <th>onde</th>\n",
              "    </tr>\n",
              "  </thead>\n",
              "  <tbody>\n",
              "    <tr>\n",
              "      <th>0</th>\n",
              "      <td>Gui</td>\n",
              "      <td>26</td>\n",
              "      <td>Mesa</td>\n",
              "      <td>True</td>\n",
              "    </tr>\n",
              "    <tr>\n",
              "      <th>1</th>\n",
              "      <td>Pai</td>\n",
              "      <td>11</td>\n",
              "      <td>Cozinha</td>\n",
              "      <td>False</td>\n",
              "    </tr>\n",
              "    <tr>\n",
              "      <th>2</th>\n",
              "      <td>Mãe</td>\n",
              "      <td>7</td>\n",
              "      <td>Costura</td>\n",
              "      <td>True</td>\n",
              "    </tr>\n",
              "    <tr>\n",
              "      <th>3</th>\n",
              "      <td>Billy</td>\n",
              "      <td>55</td>\n",
              "      <td>Sofá</td>\n",
              "      <td>False</td>\n",
              "    </tr>\n",
              "    <tr>\n",
              "      <th>4</th>\n",
              "      <td>Dinky</td>\n",
              "      <td>54</td>\n",
              "      <td>Caminha</td>\n",
              "      <td>False</td>\n",
              "    </tr>\n",
              "  </tbody>\n",
              "</table>\n",
              "</div>"
            ],
            "text/plain": [
              "    nome  idade    lugar   onde\n",
              "0    Gui     26     Mesa   True\n",
              "1    Pai     11  Cozinha  False\n",
              "2    Mãe      7  Costura   True\n",
              "3  Billy     55     Sofá  False\n",
              "4  Dinky     54  Caminha  False"
            ]
          },
          "metadata": {
            "tags": []
          },
          "execution_count": 44
        }
      ]
    },
    {
      "cell_type": "markdown",
      "metadata": {
        "id": "MF-O6r9rrlxC",
        "colab_type": "text"
      },
      "source": [
        "**Associando 'id de usuário' ao DataFrame**"
      ]
    },
    {
      "cell_type": "code",
      "metadata": {
        "id": "tBlfMBEF-WgT",
        "colab_type": "code",
        "colab": {}
      },
      "source": [
        "id_usuario = [314, 929, 872, 514, 815]"
      ],
      "execution_count": 0,
      "outputs": []
    },
    {
      "cell_type": "code",
      "metadata": {
        "id": "dTwzihfm_XpL",
        "colab_type": "code",
        "colab": {
          "base_uri": "https://localhost:8080/",
          "height": 34
        },
        "outputId": "5aa68f23-b870-4bd0-82c9-4f915d4a8452"
      },
      "source": [
        "df.index"
      ],
      "execution_count": 23,
      "outputs": [
        {
          "output_type": "execute_result",
          "data": {
            "text/plain": [
              "RangeIndex(start=0, stop=5, step=1)"
            ]
          },
          "metadata": {
            "tags": []
          },
          "execution_count": 23
        }
      ]
    },
    {
      "cell_type": "code",
      "metadata": {
        "id": "U2StZb2t_ZAC",
        "colab_type": "code",
        "colab": {}
      },
      "source": [
        "df.index = id_usuario "
      ],
      "execution_count": 0,
      "outputs": []
    },
    {
      "cell_type": "code",
      "metadata": {
        "id": "OtPwYZ7m_klj",
        "colab_type": "code",
        "colab": {
          "base_uri": "https://localhost:8080/",
          "height": 204
        },
        "outputId": "cbb8fb45-fa1b-4702-e39d-152351e93766"
      },
      "source": [
        "df"
      ],
      "execution_count": 28,
      "outputs": [
        {
          "output_type": "execute_result",
          "data": {
            "text/html": [
              "<div>\n",
              "<style scoped>\n",
              "    .dataframe tbody tr th:only-of-type {\n",
              "        vertical-align: middle;\n",
              "    }\n",
              "\n",
              "    .dataframe tbody tr th {\n",
              "        vertical-align: top;\n",
              "    }\n",
              "\n",
              "    .dataframe thead th {\n",
              "        text-align: right;\n",
              "    }\n",
              "</style>\n",
              "<table border=\"1\" class=\"dataframe\">\n",
              "  <thead>\n",
              "    <tr style=\"text-align: right;\">\n",
              "      <th></th>\n",
              "      <th>nome</th>\n",
              "      <th>idade</th>\n",
              "      <th>lugar</th>\n",
              "      <th>onde</th>\n",
              "    </tr>\n",
              "  </thead>\n",
              "  <tbody>\n",
              "    <tr>\n",
              "      <th>314</th>\n",
              "      <td>Gui</td>\n",
              "      <td>26</td>\n",
              "      <td>Mesa</td>\n",
              "      <td>True</td>\n",
              "    </tr>\n",
              "    <tr>\n",
              "      <th>929</th>\n",
              "      <td>Pai</td>\n",
              "      <td>11</td>\n",
              "      <td>Cozinha</td>\n",
              "      <td>False</td>\n",
              "    </tr>\n",
              "    <tr>\n",
              "      <th>872</th>\n",
              "      <td>Mãe</td>\n",
              "      <td>7</td>\n",
              "      <td>Costura</td>\n",
              "      <td>True</td>\n",
              "    </tr>\n",
              "    <tr>\n",
              "      <th>514</th>\n",
              "      <td>Billy</td>\n",
              "      <td>55</td>\n",
              "      <td>Sofá</td>\n",
              "      <td>False</td>\n",
              "    </tr>\n",
              "    <tr>\n",
              "      <th>815</th>\n",
              "      <td>Dinky</td>\n",
              "      <td>54</td>\n",
              "      <td>Caminha</td>\n",
              "      <td>False</td>\n",
              "    </tr>\n",
              "  </tbody>\n",
              "</table>\n",
              "</div>"
            ],
            "text/plain": [
              "      nome  idade    lugar   onde\n",
              "314    Gui     26     Mesa   True\n",
              "929    Pai     11  Cozinha  False\n",
              "872    Mãe      7  Costura   True\n",
              "514  Billy     55     Sofá  False\n",
              "815  Dinky     54  Caminha  False"
            ]
          },
          "metadata": {
            "tags": []
          },
          "execution_count": 28
        }
      ]
    },
    {
      "cell_type": "markdown",
      "metadata": {
        "id": "NwYcV1Wmwciq",
        "colab_type": "text"
      },
      "source": [
        "**Chamando id**"
      ]
    },
    {
      "cell_type": "code",
      "metadata": {
        "id": "yVxIQsm-_l2z",
        "colab_type": "code",
        "colab": {
          "base_uri": "https://localhost:8080/",
          "height": 102
        },
        "outputId": "18fcd8d4-5b12-4b97-e574-0018be47bfb0"
      },
      "source": [
        "df.loc[314]"
      ],
      "execution_count": 30,
      "outputs": [
        {
          "output_type": "execute_result",
          "data": {
            "text/plain": [
              "nome      Gui\n",
              "idade      26\n",
              "lugar    Mesa\n",
              "onde     True\n",
              "Name: 314, dtype: object"
            ]
          },
          "metadata": {
            "tags": []
          },
          "execution_count": 30
        }
      ]
    },
    {
      "cell_type": "markdown",
      "metadata": {
        "id": "RFqr2KultCM3",
        "colab_type": "text"
      },
      "source": [
        "# **Criando DataFrame a partir de listas**"
      ]
    },
    {
      "cell_type": "code",
      "metadata": {
        "id": "9t3wTmN5_upq",
        "colab_type": "code",
        "colab": {}
      },
      "source": [
        "# LISTA\n",
        "\n",
        "dados_Lista = [\n",
        "               [\"Gui\",26,\"Mesa\",True],\n",
        "               [\"Billy\", 12, \"Sofá\", False],\n",
        "               [\"Dinky\", 7, \"Caminha\",False],\n",
        "               [\"Mae\",54, \"Costura\", True],\n",
        "               [\"Pai\",55, \"Cozinha\", True]\n",
        "]"
      ],
      "execution_count": 0,
      "outputs": []
    },
    {
      "cell_type": "code",
      "metadata": {
        "id": "znxSex22GkGK",
        "colab_type": "code",
        "colab": {}
      },
      "source": [
        "df_2 = dados_Lista"
      ],
      "execution_count": 0,
      "outputs": []
    },
    {
      "cell_type": "code",
      "metadata": {
        "id": "34bdJgCHGy-D",
        "colab_type": "code",
        "colab": {
          "base_uri": "https://localhost:8080/",
          "height": 102
        },
        "outputId": "8abdc17b-4958-4232-f4dc-db4e2150dc6b"
      },
      "source": [
        "df_2"
      ],
      "execution_count": 34,
      "outputs": [
        {
          "output_type": "execute_result",
          "data": {
            "text/plain": [
              "[['Gui', 26, 'Mesa', True],\n",
              " ['Billy', 12, 'Sofá', False],\n",
              " ['Dinky', 7, 'Caminha', False],\n",
              " ['Mae', 54, 'Costura', True],\n",
              " ['Pai', 55, 'Cozinha', True]]"
            ]
          },
          "metadata": {
            "tags": []
          },
          "execution_count": 34
        }
      ]
    },
    {
      "cell_type": "markdown",
      "metadata": {
        "id": "kkPhk9_zwz5l",
        "colab_type": "text"
      },
      "source": [
        "## **Transformando a lista em Data Frame** **e adicionando *Index**\n"
      ]
    },
    {
      "cell_type": "code",
      "metadata": {
        "id": "9JI4MTfNGzsT",
        "colab_type": "code",
        "colab": {}
      },
      "source": [
        "df_2 = pd.DataFrame(dados_Lista, columns=['nome','idade','local','onde'])\n",
        "df_2.index = ['a','b','c','d','e']"
      ],
      "execution_count": 0,
      "outputs": []
    },
    {
      "cell_type": "code",
      "metadata": {
        "id": "JEdo2CPRHDAD",
        "colab_type": "code",
        "colab": {
          "base_uri": "https://localhost:8080/",
          "height": 204
        },
        "outputId": "124c3293-3dab-498f-c093-e714e96721c6"
      },
      "source": [
        "df_2"
      ],
      "execution_count": 39,
      "outputs": [
        {
          "output_type": "execute_result",
          "data": {
            "text/html": [
              "<div>\n",
              "<style scoped>\n",
              "    .dataframe tbody tr th:only-of-type {\n",
              "        vertical-align: middle;\n",
              "    }\n",
              "\n",
              "    .dataframe tbody tr th {\n",
              "        vertical-align: top;\n",
              "    }\n",
              "\n",
              "    .dataframe thead th {\n",
              "        text-align: right;\n",
              "    }\n",
              "</style>\n",
              "<table border=\"1\" class=\"dataframe\">\n",
              "  <thead>\n",
              "    <tr style=\"text-align: right;\">\n",
              "      <th></th>\n",
              "      <th>nome</th>\n",
              "      <th>idade</th>\n",
              "      <th>local</th>\n",
              "      <th>onde</th>\n",
              "    </tr>\n",
              "  </thead>\n",
              "  <tbody>\n",
              "    <tr>\n",
              "      <th>a</th>\n",
              "      <td>Gui</td>\n",
              "      <td>26</td>\n",
              "      <td>Mesa</td>\n",
              "      <td>True</td>\n",
              "    </tr>\n",
              "    <tr>\n",
              "      <th>b</th>\n",
              "      <td>Billy</td>\n",
              "      <td>12</td>\n",
              "      <td>Sofá</td>\n",
              "      <td>False</td>\n",
              "    </tr>\n",
              "    <tr>\n",
              "      <th>c</th>\n",
              "      <td>Dinky</td>\n",
              "      <td>7</td>\n",
              "      <td>Caminha</td>\n",
              "      <td>False</td>\n",
              "    </tr>\n",
              "    <tr>\n",
              "      <th>d</th>\n",
              "      <td>Mae</td>\n",
              "      <td>54</td>\n",
              "      <td>Costura</td>\n",
              "      <td>True</td>\n",
              "    </tr>\n",
              "    <tr>\n",
              "      <th>e</th>\n",
              "      <td>Pai</td>\n",
              "      <td>55</td>\n",
              "      <td>Cozinha</td>\n",
              "      <td>True</td>\n",
              "    </tr>\n",
              "  </tbody>\n",
              "</table>\n",
              "</div>"
            ],
            "text/plain": [
              "    nome  idade    local   onde\n",
              "a    Gui     26     Mesa   True\n",
              "b  Billy     12     Sofá  False\n",
              "c  Dinky      7  Caminha  False\n",
              "d    Mae     54  Costura   True\n",
              "e    Pai     55  Cozinha   True"
            ]
          },
          "metadata": {
            "tags": []
          },
          "execution_count": 39
        }
      ]
    },
    {
      "cell_type": "code",
      "metadata": {
        "id": "2hCREfm7HD5D",
        "colab_type": "code",
        "colab": {
          "base_uri": "https://localhost:8080/",
          "height": 102
        },
        "outputId": "5fd2cfa1-513e-418d-b991-8d7f145cbb8e"
      },
      "source": [
        "\n",
        "df_2.loc['c']"
      ],
      "execution_count": 41,
      "outputs": [
        {
          "output_type": "execute_result",
          "data": {
            "text/plain": [
              "nome       Dinky\n",
              "idade          7\n",
              "local    Caminha\n",
              "onde       False\n",
              "Name: c, dtype: object"
            ]
          },
          "metadata": {
            "tags": []
          },
          "execution_count": 41
        }
      ]
    },
    {
      "cell_type": "markdown",
      "metadata": {
        "id": "Wq7KZ8fBxAJI",
        "colab_type": "text"
      },
      "source": [
        "**Adicionando a coluna 'Saldo'**"
      ]
    },
    {
      "cell_type": "code",
      "metadata": {
        "id": "HUnTn3nVHeas",
        "colab_type": "code",
        "colab": {}
      },
      "source": [
        "#criar coluna\n",
        "\n",
        "df_2['saldo'] = 0.0"
      ],
      "execution_count": 0,
      "outputs": []
    },
    {
      "cell_type": "code",
      "metadata": {
        "id": "EUcFRORWgJRy",
        "colab_type": "code",
        "colab": {
          "base_uri": "https://localhost:8080/",
          "height": 204
        },
        "outputId": "7624d6d2-425f-47e9-9d17-3caa8a5db9be"
      },
      "source": [
        "df_2"
      ],
      "execution_count": 43,
      "outputs": [
        {
          "output_type": "execute_result",
          "data": {
            "text/html": [
              "<div>\n",
              "<style scoped>\n",
              "    .dataframe tbody tr th:only-of-type {\n",
              "        vertical-align: middle;\n",
              "    }\n",
              "\n",
              "    .dataframe tbody tr th {\n",
              "        vertical-align: top;\n",
              "    }\n",
              "\n",
              "    .dataframe thead th {\n",
              "        text-align: right;\n",
              "    }\n",
              "</style>\n",
              "<table border=\"1\" class=\"dataframe\">\n",
              "  <thead>\n",
              "    <tr style=\"text-align: right;\">\n",
              "      <th></th>\n",
              "      <th>nome</th>\n",
              "      <th>idade</th>\n",
              "      <th>local</th>\n",
              "      <th>onde</th>\n",
              "      <th>saldo</th>\n",
              "    </tr>\n",
              "  </thead>\n",
              "  <tbody>\n",
              "    <tr>\n",
              "      <th>a</th>\n",
              "      <td>Gui</td>\n",
              "      <td>26</td>\n",
              "      <td>Mesa</td>\n",
              "      <td>True</td>\n",
              "      <td>0.0</td>\n",
              "    </tr>\n",
              "    <tr>\n",
              "      <th>b</th>\n",
              "      <td>Billy</td>\n",
              "      <td>12</td>\n",
              "      <td>Sofá</td>\n",
              "      <td>False</td>\n",
              "      <td>0.0</td>\n",
              "    </tr>\n",
              "    <tr>\n",
              "      <th>c</th>\n",
              "      <td>Dinky</td>\n",
              "      <td>7</td>\n",
              "      <td>Caminha</td>\n",
              "      <td>False</td>\n",
              "      <td>0.0</td>\n",
              "    </tr>\n",
              "    <tr>\n",
              "      <th>d</th>\n",
              "      <td>Mae</td>\n",
              "      <td>54</td>\n",
              "      <td>Costura</td>\n",
              "      <td>True</td>\n",
              "      <td>0.0</td>\n",
              "    </tr>\n",
              "    <tr>\n",
              "      <th>e</th>\n",
              "      <td>Pai</td>\n",
              "      <td>55</td>\n",
              "      <td>Cozinha</td>\n",
              "      <td>True</td>\n",
              "      <td>0.0</td>\n",
              "    </tr>\n",
              "  </tbody>\n",
              "</table>\n",
              "</div>"
            ],
            "text/plain": [
              "    nome  idade    local   onde  saldo\n",
              "a    Gui     26     Mesa   True    0.0\n",
              "b  Billy     12     Sofá  False    0.0\n",
              "c  Dinky      7  Caminha  False    0.0\n",
              "d    Mae     54  Costura   True    0.0\n",
              "e    Pai     55  Cozinha   True    0.0"
            ]
          },
          "metadata": {
            "tags": []
          },
          "execution_count": 43
        }
      ]
    }
  ]
}